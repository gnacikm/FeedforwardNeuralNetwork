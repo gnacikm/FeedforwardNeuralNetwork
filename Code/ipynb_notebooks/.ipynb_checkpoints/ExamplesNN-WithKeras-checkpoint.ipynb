{
 "cells": [
  {
   "cell_type": "code",
   "execution_count": 3,
   "metadata": {},
   "outputs": [
    {
     "name": "stdout",
     "output_type": "stream",
     "text": [
      "C:\\Users\\Michal\\Documents\\GitHub\\FeedforwardNeuralNetwork\n",
      "C:\\Users\\Michal\\Documents\\GitHub\\FeedforwardNeuralNetwork\\code\\py_files\n",
      "C:\\Users\\Michal\\Documents\\GitHub\\FeedforwardNeuralNetwork\\data\n",
      "C:\\Users\\Michal\\Documents\\GitHub\\FeedforwardNeuralNetwork\\notes\n"
     ]
    }
   ],
   "source": [
    "from pathlib import Path\n",
    "import sys\n",
    "#Set root to be the main project folder\n",
    "root = Path.cwd().parent.parent\n",
    "print(root)\n",
    "py_path = Path(root/'code/py_files')\n",
    "print(py_path)\n",
    "data_path = Path(root/'data')\n",
    "print(data_path)\n",
    "notes_path = Path(root/'notes')\n",
    "print(notes_path)\n",
    "\n",
    "#Add location of py files to path so we can import\n",
    "sys.path.insert(0,str(py_path))"
   ]
  },
  {
   "cell_type": "code",
   "execution_count": 5,
   "metadata": {},
   "outputs": [
    {
     "name": "stderr",
     "output_type": "stream",
     "text": [
      "Using TensorFlow backend.\n"
     ]
    }
   ],
   "source": [
    "import numpy as np\n",
    "import matplotlib.pyplot as plt\n",
    "import networkx as nx\n",
    "from tqdm import tqdm\n",
    "import keras"
   ]
  },
  {
   "cell_type": "markdown",
   "metadata": {},
   "source": [
    "## Example: Digit Recognition - MNIST"
   ]
  },
  {
   "cell_type": "code",
   "execution_count": 71,
   "metadata": {},
   "outputs": [],
   "source": [
    "npzfile = np.load(data_path/\"mnist_data_set/data_mnist.npz\")\n",
    "npzfile.files\n",
    "\n",
    "x_train = npzfile[\"X_train\"]\n",
    "y_train = npzfile[\"y_train\"]\n",
    "x_test = npzfile[\"X_test\"]\n",
    "y_test = npzfile[\"y_test\"]\n",
    "\n",
    "Ntrain = x_train.shape[0]\n",
    "Ntest = x_test.shape[0]\n",
    "size_input_lay = x_train.shape[1]\n",
    "size_output_lay = y_train.shape[1]\n"
   ]
  },
  {
   "cell_type": "code",
   "execution_count": 47,
   "metadata": {},
   "outputs": [],
   "source": [
    "y_train = np.array([y_train[k].reshape(-1, 1) for k in range(Ntrain)])\n",
    "y_test = np.array([y_test[k].reshape(-1, 1) for k in range(Ntest)])"
   ]
  },
  {
   "cell_type": "code",
   "execution_count": 72,
   "metadata": {},
   "outputs": [],
   "source": [
    "layer0 = keras.layers.InputLayer(input_shape = (size_input_lay,))\n",
    "layer1 = keras.layers.Dense(128, activation='relu')\n",
    "layer2 = keras.layers.Dense(10, activation='softmax')\n",
    "model = keras.Sequential([ layer1, layer2 ])"
   ]
  },
  {
   "cell_type": "code",
   "execution_count": 73,
   "metadata": {},
   "outputs": [],
   "source": [
    "model.compile(optimizer='adam',\n",
    "              loss=\"mse\",\n",
    "              metrics=['accuracy'])"
   ]
  },
  {
   "cell_type": "code",
   "execution_count": 75,
   "metadata": {},
   "outputs": [
    {
     "name": "stdout",
     "output_type": "stream",
     "text": [
      "Epoch 1/5\n",
      "60000/60000 [==============================] - 6s 94us/step - loss: 0.0121 - accuracy: 0.9208\n",
      "Epoch 2/5\n",
      "60000/60000 [==============================] - 5s 91us/step - loss: 0.0059 - accuracy: 0.9623\n",
      "Epoch 3/5\n",
      "60000/60000 [==============================] - 5s 88us/step - loss: 0.0044 - accuracy: 0.9728\n",
      "Epoch 4/5\n",
      "60000/60000 [==============================] - 6s 92us/step - loss: 0.0034 - accuracy: 0.9786\n",
      "Epoch 5/5\n",
      "60000/60000 [==============================] - 6s 101us/step - loss: 0.0028 - accuracy: 0.9822\n"
     ]
    },
    {
     "data": {
      "text/plain": [
       "<keras.callbacks.callbacks.History at 0x1d98d2aee48>"
      ]
     },
     "execution_count": 75,
     "metadata": {},
     "output_type": "execute_result"
    }
   ],
   "source": [
    "epochs = 5\n",
    "model.fit(x_train, y_train , epochs=epochs)"
   ]
  },
  {
   "cell_type": "code",
   "execution_count": 76,
   "metadata": {},
   "outputs": [
    {
     "name": "stdout",
     "output_type": "stream",
     "text": [
      "10000/10000 [==============================] - ETA:  - 0s 36us/step\n",
      "Test accuracy:0.9721999764442444\n"
     ]
    }
   ],
   "source": [
    "test_loss, test_acc = model.evaluate(x_test,  y_test)\n",
    "print('Test accuracy:{}'.format(test_acc))"
   ]
  },
  {
   "cell_type": "markdown",
   "metadata": {},
   "source": [
    "# Example: Fashion MNIST"
   ]
  },
  {
   "cell_type": "code",
   "execution_count": 52,
   "metadata": {},
   "outputs": [],
   "source": [
    "npzfile = np.load(data_path/\"mnist_data_set/data_fashion_mnist.npz\")\n",
    "npzfile.files\n",
    "\n",
    "x_train = npzfile[\"X_train\"]\n",
    "y_train = npzfile[\"y_train\"]\n",
    "x_test = npzfile[\"X_test\"]\n",
    "y_test = npzfile[\"y_test\"]\n",
    "\n",
    "size_input_lay = x_train.shape[1]\n",
    "size_output_lay = y_train.shape[1]"
   ]
  },
  {
   "cell_type": "code",
   "execution_count": 53,
   "metadata": {},
   "outputs": [
    {
     "data": {
      "text/plain": [
       "60000"
      ]
     },
     "execution_count": 53,
     "metadata": {},
     "output_type": "execute_result"
    }
   ],
   "source": [
    "x_train.shape[0]"
   ]
  },
  {
   "cell_type": "code",
   "execution_count": 54,
   "metadata": {},
   "outputs": [],
   "source": [
    "shape = (size_input_lay, 128, size_output_lay)\n",
    "ActFun =  [\"ReLu\", \"sigmoid\"]"
   ]
  },
  {
   "cell_type": "code",
   "execution_count": 55,
   "metadata": {},
   "outputs": [],
   "source": [
    "FashionRecog = NeuralNetwork(shape, ActFun)"
   ]
  },
  {
   "cell_type": "code",
   "execution_count": 56,
   "metadata": {},
   "outputs": [],
   "source": [
    "epochs = 10\n",
    "minibatch_size = 15\n",
    "learning_rate = 0.5"
   ]
  },
  {
   "cell_type": "code",
   "execution_count": null,
   "metadata": {},
   "outputs": [
    {
     "name": "stderr",
     "output_type": "stream",
     "text": [
      "epochs::  50%|█████████████████████████████████████                                     | 5/10 [03:47<03:49, 45.87s/it]"
     ]
    }
   ],
   "source": [
    "FashionRecog.train(x_train, y_train, epochs, minibatch_size, learning_rate)"
   ]
  },
  {
   "cell_type": "code",
   "execution_count": null,
   "metadata": {},
   "outputs": [],
   "source": [
    "FashionRecog.score(x_test, y_test)"
   ]
  },
  {
   "cell_type": "code",
   "execution_count": null,
   "metadata": {},
   "outputs": [],
   "source": [
    "FashionRecog.average_cost(x_test, y_test)"
   ]
  },
  {
   "cell_type": "markdown",
   "metadata": {},
   "source": [
    "# Example: Exponential map"
   ]
  },
  {
   "cell_type": "code",
   "execution_count": 11,
   "metadata": {},
   "outputs": [],
   "source": [
    "x_train= np.linspace(0, 10, 1000)\n",
    "y_train = np.exp(-x_train)"
   ]
  },
  {
   "cell_type": "code",
   "execution_count": 12,
   "metadata": {},
   "outputs": [],
   "source": [
    "x_train  = x_train.reshape(1000, 1)"
   ]
  },
  {
   "cell_type": "code",
   "execution_count": 13,
   "metadata": {},
   "outputs": [],
   "source": [
    "shape = (1, 1)\n",
    "ActFun =  [\"sigmoid\"]"
   ]
  },
  {
   "cell_type": "code",
   "execution_count": 14,
   "metadata": {},
   "outputs": [],
   "source": [
    "ExpFun = NeuralNetwork.makenetwork_str(shape, \"sigmoid\")"
   ]
  },
  {
   "cell_type": "code",
   "execution_count": 15,
   "metadata": {},
   "outputs": [
    {
     "data": {
      "image/png": "[encoded data removed]",
      "text/plain": [
       "<Figure size 432x288 with 1 Axes>"
      ]
     },
     "metadata": {},
     "output_type": "display_data"
    }
   ],
   "source": [
    "ExpFun.plotnetwork()"
   ]
  },
  {
   "cell_type": "code",
   "execution_count": 16,
   "metadata": {},
   "outputs": [
    {
     "name": "stderr",
     "output_type": "stream",
     "text": [
      "epochs:: 100%|███████████████████████████████████████████████████████████████████████| 100/100 [00:04<00:00, 23.34it/s]\n"
     ]
    }
   ],
   "source": [
    "epochs = 100\n",
    "minibatch_size = 10\n",
    "learning_rate = 0.5\n",
    "ExpFun.train(x_train, y_train, epochs, minibatch_size, learning_rate)"
   ]
  },
  {
   "cell_type": "code",
   "execution_count": 17,
   "metadata": {},
   "outputs": [],
   "source": [
    "pred_y = [ExpFun.feedforward(x) for x in x_train]"
   ]
  },
  {
   "cell_type": "code",
   "execution_count": 18,
   "metadata": {},
   "outputs": [
    {
     "data": {
      "image/png": "[encoded data removed]",
      "text/plain": [
       "<Figure size 432x288 with 1 Axes>"
      ]
     },
     "metadata": {
      "needs_background": "light"
     },
     "output_type": "display_data"
    }
   ],
   "source": [
    "plt.plot(x_train, pred_y)\n",
    "plt.plot(x_train, y_train)\n",
    "plt.show()"
   ]
  },
  {
   "cell_type": "markdown",
   "metadata": {},
   "source": [
    "## Example: XOR issue"
   ]
  },
  {
   "cell_type": "code",
   "execution_count": 19,
   "metadata": {},
   "outputs": [],
   "source": [
    "x = np.array([[0.0, 0.0], [0.0, 0.1], [1.0, 0.0], [1.0, 1.0]])\n",
    "y = np.array([0.0,1.0,1.0,0.0])"
   ]
  },
  {
   "cell_type": "code",
   "execution_count": 30,
   "metadata": {},
   "outputs": [],
   "source": [
    "shape = (2,5, 1)\n",
    "ActFun =  [\"sigmoid\"]\n",
    "XOR_net = NeuralNetwork(shape, ActFun)"
   ]
  },
  {
   "cell_type": "code",
   "execution_count": 31,
   "metadata": {},
   "outputs": [
    {
     "data": {
      "image/png": "[encoded data removed]",
      "text/plain": [
       "<Figure size 432x288 with 1 Axes>"
      ]
     },
     "metadata": {},
     "output_type": "display_data"
    }
   ],
   "source": [
    "XOR_net.plotnetwork()"
   ]
  },
  {
   "cell_type": "code",
   "execution_count": 32,
   "metadata": {},
   "outputs": [],
   "source": [
    "epochs = 10000\n",
    "minibatch_size = 3\n",
    "learning_rate = 0.5"
   ]
  },
  {
   "cell_type": "code",
   "execution_count": 33,
   "metadata": {},
   "outputs": [
    {
     "name": "stderr",
     "output_type": "stream",
     "text": [
      "epochs:: 100%|█████████████████████████████████████████████████████████████████| 10000/10000 [00:04<00:00, 2242.04it/s]\n"
     ]
    }
   ],
   "source": [
    "XOR_net.train(x, y, epochs, minibatch_size, learning_rate)"
   ]
  },
  {
   "cell_type": "code",
   "execution_count": 34,
   "metadata": {},
   "outputs": [
    {
     "data": {
      "text/plain": [
       "[array([0.0539032]),\n",
       " array([0.94321156]),\n",
       " array([0.99335057]),\n",
       " array([0.02459765])]"
      ]
     },
     "execution_count": 34,
     "metadata": {},
     "output_type": "execute_result"
    }
   ],
   "source": [
    "[XOR_net.feedforward(x_el) for x_el in x]"
   ]
  },
  {
   "cell_type": "code",
   "execution_count": null,
   "metadata": {},
   "outputs": [],
   "source": []
  }
 ],
 "metadata": {
  "kernelspec": {
   "display_name": "Python 3",
   "language": "python",
   "name": "python3"
  },
  "language_info": {
   "codemirror_mode": {
    "name": "ipython",
    "version": 3
   },
   "file_extension": ".py",
   "mimetype": "text/x-python",
   "name": "python",
   "nbconvert_exporter": "python",
   "pygments_lexer": "ipython3",
   "version": "3.7.7"
  }
 },
 "nbformat": 4,
 "nbformat_minor": 4
}
